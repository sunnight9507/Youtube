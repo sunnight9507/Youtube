{
 "cells": [
  {
   "cell_type": "markdown",
   "metadata": {},
   "source": [
    "#### 3.1 멀고도 먼 길의 시작 - t-test(1) -\n",
    "\n",
    "- t-test\n",
    "    - 정의 : 모집단의 표준편차가 알려지지 않았을 때, 정규분포의 모집단에서 모은 샘플(표본)의 평균값에 대한 가설검정 방법\n",
    "    \n",
    "- t-test 목적\n",
    "    - 두 집단이 같은지 다른지 비교하기 위해 사용 => 대표값인 평균값을 통계적으로 비교\n",
    "    - 두 집단간의 평균값 차이가 우연히 발생할 확률\n",
    "    \n",
    "#### 3.2 몸풀기가 이렇게 어렵다니 - t-test(2) -\n",
    "\n",
    "- t-test 깊은 이해\n",
    "    - 두 집단간의 평균값 차이가 얼마나 큰지 작은지 결정할 비교 대상이 필요하다. \n",
    "    - => 두 집단의 표준편차(분산)\n",
    "        - 두 집단의 평균값의 차이가 표준편차보다 현저히 작으면 우연히 발생했다.\n",
    "        - 두 집단의 평균값의 차이가 표준편차보다 현저히 크면 우연히 발생하지 않았다.\n",
    "        \n",
    "#### 3.3 너무 빨리 먹으면 체합니다. - t-test(3) = z-test -\n",
    "\n",
    "- 정규분포\n",
    "    - 종모양\n",
    "    - 가운데(평균)을 중심으로 좌우 대칭\n",
    "    - 정규분포의 양 끝은 0에 닿지 않음\n",
    "    - 정규분포 곡선 아래의 면적은 확률 => 합은 1\n",
    "\n",
    "- 표준정규분포\n",
    "    - 평균(mu) : 0 / 표준편차(sigma) : 1\n",
    "    - Z-score = (X - mu) / sigma\n",
    "        - 표준화(standardization)\n",
    "        - 1 표준편차당 관찰값(X)가 평균으로부터 얼마나 떨어져 있는지를 의미\n",
    "        - 단위로부터 자유롭다.(dimensionless quantity)\n",
    "    - 표준정규분포표를 이용해 확률값 확인\n",
    "    \n",
    "#### 3.4 단순하지만 헷갈릴수도 - t-test(4) -\n",
    "\n",
    "- 양측검점 vs 단측검정\n",
    "    - 양측검정 : M0 = M1\n",
    "    - 단측검정 : M0 > M1 or M0 < M1\n",
    "    \n",
    "#### 3.5 이제야 t-test를 하다니.. - t-test(5) -\n",
    "\n",
    "- t-value\n",
    "    - (x_bar_a - x_bar_b) / (s / sqrt(n)) : 두 집단의 평균값의 차이가 0인지 아닌지\n",
    "    - 자유도(df) : n-1\n",
    "    - 표본의 크기가 커지면 t-value가 커지고, 표준 정규분포에 근사\n",
    "    \n",
    "#### 3.6 종류별로 알아보자 - t-test(6) -\n",
    "\n",
    "- t-test 종류\n",
    "    - Two-sample t-test : 두 집단간의 차이\n",
    "    - One-sample t-test : 하나의 집단과 mu와의 차이\n",
    "    - Paired t-test : 하나의 집단을 시간의 차이를 가지고 비교\n",
    "    \n",
    "#### 3.7 t-test를 컴퓨터에서 실습해보자 - t-test(7) -\n",
    "\n",
    "- Jamovi download"
   ]
  }
 ],
 "metadata": {
  "kernelspec": {
   "display_name": "Python 3",
   "language": "python",
   "name": "python3"
  },
  "language_info": {
   "codemirror_mode": {
    "name": "ipython",
    "version": 3
   },
   "file_extension": ".py",
   "mimetype": "text/x-python",
   "name": "python",
   "nbconvert_exporter": "python",
   "pygments_lexer": "ipython3",
   "version": "3.7.4"
  }
 },
 "nbformat": 4,
 "nbformat_minor": 2
}
