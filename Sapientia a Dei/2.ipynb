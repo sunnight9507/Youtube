{
 "cells": [
  {
   "cell_type": "markdown",
   "metadata": {},
   "source": [
    "#### 2.1 왜 헷갈릴까?\n",
    "- 상관관계\n",
    "    - 한 변수와 다른 변수가 공변하는 함수관계\n",
    "    - 양, 음의 상관관계\n",
    "    - 방향, 얼마나 모여있는지에 따라 결정\n",
    "    - **`직선관계`만 측정 가능**\n",
    "    \n",
    "- 상관계수\n",
    "    - 범위 : -1 ~ 1\n",
    "    - -1일 떄는 완벽한 음의 상관관계\n",
    "    - 0일 떄는 아무런 관계도 없음\n",
    "    - 1일 떄는 완벽한 양의 상관관계\n",
    "    - 상관계수의 +/- 는 방향을 의미\n",
    "    - 상관계수의 크기는 힘을 의미\n",
    "        - 절대값 1에 가까울수록 힘이 세다 => 데이터들이 가깝게 모여 있다는 의미\n",
    "        - 데이터들이 퍼져있으면 상관계수가 0에 가까워 짐\n",
    "    \n",
    "- 상관관계 vs 인과관계\n",
    "    - 인과관계\n",
    "        - 원인과 결과의 관계를 가지는 변수의 관계성을 의미\n",
    "        - ex) 고객이 만족하기 때문에 재방문하려고 한다.\n",
    "    - 상관관계\n",
    "        - 힘과 방향에 따라 결정\n",
    "    - 인과관계와 상관관계는 다른 의미이다."
   ]
  }
 ],
 "metadata": {
  "kernelspec": {
   "display_name": "Python 3",
   "language": "python",
   "name": "python3"
  },
  "language_info": {
   "codemirror_mode": {
    "name": "ipython",
    "version": 3
   },
   "file_extension": ".py",
   "mimetype": "text/x-python",
   "name": "python",
   "nbconvert_exporter": "python",
   "pygments_lexer": "ipython3",
   "version": "3.7.3"
  }
 },
 "nbformat": 4,
 "nbformat_minor": 2
}
